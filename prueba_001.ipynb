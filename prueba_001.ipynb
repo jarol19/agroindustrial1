{
  "nbformat": 4,
  "nbformat_minor": 0,
  "metadata": {
    "colab": {
      "provenance": [],
      "include_colab_link": true
    },
    "kernelspec": {
      "name": "python3",
      "display_name": "Python 3"
    },
    "language_info": {
      "name": "python"
    }
  },
  "cells": [
    {
      "cell_type": "markdown",
      "metadata": {
        "id": "view-in-github",
        "colab_type": "text"
      },
      "source": [
        "<a href=\"https://colab.research.google.com/github/jarol19/agroindustrial1/blob/main/prueba_001.ipynb\" target=\"_parent\"><img src=\"https://colab.research.google.com/assets/colab-badge.svg\" alt=\"Open In Colab\"/></a>"
      ]
    },
    {
      "cell_type": "code",
      "source": [
        "import sys\n",
        "RECETAS = {\n",
        "    \"mermelada_fresa\": {\n",
        "        \"fruta_kg\": 1.1,\n",
        "        \"azucar_kg\": 0.6,\n",
        "        \"pectina_g\": 5\n",
        "    },\n",
        "    \"nectar_mango\": {\n",
        "        \"pulpa_fruta_kg\": 0.5,\n",
        "        \"agua_L\": 0.6,\n",
        "        \"azucar_kg\": 0.1\n",
        "    }\n",
        "}\n",
        "COSTOS_INGREDIENTES = {\n",
        "    \"fruta_kg\": 1.50,\n",
        "    \"azucar_kg\": 0.90,\n",
        "    \"pectina_g\": 0.05,\n",
        "    \"pulpa_fruta_kg\": 1.20,\n",
        "    \"agua_L\": 0.01\n",
        "}\n",
        "def calcular_ingredientes_necesarios(producto, cantidad_total_kg):\n",
        "    if producto not in RECETAS:\n",
        "        return None\n",
        "    receta = RECETAS[producto]\n",
        "    ingredientes_requeridos = {}\n",
        "    for ingrediente, cantidad_por_kg in receta.items():\n",
        "        ingredientes_requeridos[ingrediente] = cantidad_por_kg * cantidad_total_kg\n",
        "    return ingredientes_requeridos"
      ],
      "metadata": {
        "id": "NxYgGd7_ymMw"
      },
      "execution_count": null,
      "outputs": []
    }
  ]
}