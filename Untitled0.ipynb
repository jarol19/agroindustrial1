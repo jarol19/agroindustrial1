{
  "nbformat": 4,
  "nbformat_minor": 0,
  "metadata": {
    "colab": {
      "provenance": [],
      "authorship_tag": "ABX9TyNkLSWjItIwtHnzTcdmmAqp",
      "include_colab_link": true
    },
    "kernelspec": {
      "name": "python3",
      "display_name": "Python 3"
    },
    "language_info": {
      "name": "python"
    }
  },
  "cells": [
    {
      "cell_type": "markdown",
      "metadata": {
        "id": "view-in-github",
        "colab_type": "text"
      },
      "source": [
        "<a href=\"https://colab.research.google.com/github/jarol19/agroindustrial1/blob/main/Untitled0.ipynb\" target=\"_parent\"><img src=\"https://colab.research.google.com/assets/colab-badge.svg\" alt=\"Open In Colab\"/></a>"
      ]
    },
    {
      "cell_type": "code",
      "execution_count": null,
      "metadata": {
        "id": "obyYMoe3z_rE"
      },
      "outputs": [],
      "source": []
    },
    {
      "cell_type": "code",
      "metadata": {
        "colab": {
          "base_uri": "https://localhost:8080/"
        },
        "id": "c8b7b9f5",
        "outputId": "62ac1792-5563-46a4-91cb-445f1f6c6a6d"
      },
      "source": [
        "# Define two numbers\n",
        "num1 = 10\n",
        "num2 = 5\n",
        "\n",
        "# Add the numbers\n",
        "sum = num1 + num2\n",
        "\n",
        "# Print the result\n",
        "print(\"The sum of\", num1, \"and\", num2, \"is\", sum)"
      ],
      "execution_count": 1,
      "outputs": [
        {
          "output_type": "stream",
          "name": "stdout",
          "text": [
            "The sum of 10 and 5 is 15\n"
          ]
        }
      ]
    },
    {
      "cell_type": "markdown",
      "metadata": {
        "id": "6ce8e756"
      },
      "source": [
        "El código Python en la celda anterior realiza una suma simple. Aquí te explico cada parte:\n",
        "\n",
        "*   `# Define two numbers`: Esta línea es un comentario. Los comentarios no son ejecutados por Python, solo sirven para que las personas que leen el código entiendan qué está pasando. En este caso, indica que las siguientes líneas definen dos números.\n",
        "*   `num1 = 10`: Aquí se crea una variable llamada `num1` y se le asigna el valor `10`. Una variable es como una caja donde puedes guardar información.\n",
        "*   `num2 = 5`: Similar a la línea anterior, crea una variable `num2` y le asigna el valor `5`.\n",
        "*   `# Add the numbers`: Otro comentario que explica que la siguiente línea realizará una suma.\n",
        "*   `sum = num1 + num2`: Esta es la operación principal. Se suman los valores contenidos en las variables `num1` y `num2` (que son 10 y 5), y el resultado (15) se guarda en una nueva variable llamada `sum`.\n",
        "*   `# Print the result`: Un comentario indicando que se va a mostrar el resultado.\n",
        "*   `print(\"The sum of\", num1, \"and\", num2, \"is\", sum)`: Esta línea utiliza la función `print()` para mostrar texto en la salida. Imprime la cadena \"The sum of\", luego el valor de `num1`, la cadena \"and\", el valor de `num2`, la cadena \"is\", y finalmente el valor de `sum`. Por eso, la salida que viste fue \"The sum of 10 and 5 is 15\".\n",
        "\n",
        "En resumen, el código define dos números, los suma y muestra el resultado de la suma."
      ]
    }
  ]
}