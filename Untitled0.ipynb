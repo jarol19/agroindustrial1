{
  "nbformat": 4,
  "nbformat_minor": 0,
  "metadata": {
    "colab": {
      "provenance": [],
      "authorship_tag": "ABX9TyNBKnRj3wFzsGcEjBA0IDzc",
      "include_colab_link": true
    },
    "kernelspec": {
      "name": "python3",
      "display_name": "Python 3"
    },
    "language_info": {
      "name": "python"
    }
  },
  "cells": [
    {
      "cell_type": "markdown",
      "metadata": {
        "id": "view-in-github",
        "colab_type": "text"
      },
      "source": [
        "<a href=\"https://colab.research.google.com/github/jarol19/agroindustrial1/blob/main/Untitled0.ipynb\" target=\"_parent\"><img src=\"https://colab.research.google.com/assets/colab-badge.svg\" alt=\"Open In Colab\"/></a>"
      ]
    },
    {
      "cell_type": "code",
      "execution_count": null,
      "metadata": {
        "id": "obyYMoe3z_rE"
      },
      "outputs": [],
      "source": []
    },
    {
      "cell_type": "code",
      "metadata": {
        "colab": {
          "base_uri": "https://localhost:8080/"
        },
        "id": "c8b7b9f5",
        "outputId": "62ac1792-5563-46a4-91cb-445f1f6c6a6d"
      },
      "source": [
        "# Define two numbers\n",
        "num1 = 10\n",
        "num2 = 5\n",
        "\n",
        "# Add the numbers\n",
        "sum = num1 + num2\n",
        "\n",
        "# Print the result\n",
        "print(\"The sum of\", num1, \"and\", num2, \"is\", sum)"
      ],
      "execution_count": 1,
      "outputs": [
        {
          "output_type": "stream",
          "name": "stdout",
          "text": [
            "The sum of 10 and 5 is 15\n"
          ]
        }
      ]
    },
    {
      "cell_type": "markdown",
      "metadata": {
        "id": "6ce8e756"
      },
      "source": [
        "El código Python en la celda anterior realiza una suma simple. Aquí te explico cada parte:\n",
        "\n",
        "*   `# Define two numbers`: Esta línea es un comentario. Los comentarios no son ejecutados por Python, solo sirven para que las personas que leen el código entiendan qué está pasando. En este caso, indica que las siguientes líneas definen dos números.\n",
        "*   `num1 = 10`: Aquí se crea una variable llamada `num1` y se le asigna el valor `10`. Una variable es como una caja donde puedes guardar información.\n",
        "*   `num2 = 5`: Similar a la línea anterior, crea una variable `num2` y le asigna el valor `5`.\n",
        "*   `# Add the numbers`: Otro comentario que explica que la siguiente línea realizará una suma.\n",
        "*   `sum = num1 + num2`: Esta es la operación principal. Se suman los valores contenidos en las variables `num1` y `num2` (que son 10 y 5), y el resultado (15) se guarda en una nueva variable llamada `sum`.\n",
        "*   `# Print the result`: Un comentario indicando que se va a mostrar el resultado.\n",
        "*   `print(\"The sum of\", num1, \"and\", num2, \"is\", sum)`: Esta línea utiliza la función `print()` para mostrar texto en la salida. Imprime la cadena \"The sum of\", luego el valor de `num1`, la cadena \"and\", el valor de `num2`, la cadena \"is\", y finalmente el valor de `sum`. Por eso, la salida que viste fue \"The sum of 10 and 5 is 15\".\n",
        "\n",
        "En resumen, el código define dos números, los suma y muestra el resultado de la suma."
      ]
    },
    {
      "cell_type": "code",
      "metadata": {
        "colab": {
          "base_uri": "https://localhost:8080/"
        },
        "id": "f5350b18",
        "outputId": "87806838-94c9-40e3-a831-090784ebecb9"
      },
      "source": [
        "# Define two numbers\n",
        "num1 = 20\n",
        "num2 = 5\n",
        "\n",
        "# Addition\n",
        "sum_result = num1 + num2\n",
        "print(\"Sum:\", sum_result)\n",
        "\n",
        "# Subtraction\n",
        "difference_result = num1 - num2\n",
        "print(\"Difference:\", difference_result)\n",
        "\n",
        "# Multiplication\n",
        "product_result = num1 * num2\n",
        "print(\"Product:\", product_result)\n",
        "\n",
        "# Division (float division)\n",
        "division_result = num1 / num2\n",
        "print(\"Division:\", division_result)\n",
        "\n",
        "# Floor Division (integer division)\n",
        "floor_division_result = num1 // num2\n",
        "print(\"Floor Division:\", floor_division_result)\n",
        "\n",
        "# Modulo (remainder)\n",
        "modulo_result = num1 % num2\n",
        "print(\"Modulo:\", modulo_result)\n",
        "\n",
        "# Exponentiation\n",
        "exponentiation_result = num1 ** num2\n",
        "print(\"Exponentiation:\", exponentiation_result)"
      ],
      "execution_count": 2,
      "outputs": [
        {
          "output_type": "stream",
          "name": "stdout",
          "text": [
            "Sum: 25\n",
            "Difference: 15\n",
            "Product: 100\n",
            "Division: 4.0\n",
            "Floor Division: 4\n",
            "Modulo: 0\n",
            "Exponentiation: 3200000\n"
          ]
        }
      ]
    },
    {
      "cell_type": "markdown",
      "metadata": {
        "id": "4d2fe10e"
      },
      "source": [
        "Aquí te explico el código línea por línea:\n",
        "\n",
        "*   `# Define two numbers`: Este es un comentario que indica que las siguientes líneas definen dos variables para realizar las operaciones.\n",
        "*   `num1 = 20`: Crea una variable llamada `num1` y le asigna el valor `20`.\n",
        "*   `num2 = 5`: Crea una variable llamada `num2` y le asigna el valor `5`.\n",
        "*   `# Addition`: Comentario indicando la operación de suma.\n",
        "*   `sum_result = num1 + num2`: Suma los valores de `num1` y `num2` y guarda el resultado en la variable `sum_result`.\n",
        "*   `print(\"Sum:\", sum_result)`: Imprime la cadena \"Sum:\" seguida del valor de `sum_result`.\n",
        "*   `# Subtraction`: Comentario indicando la operación de resta.\n",
        "*   `difference_result = num1 - num2`: Resta el valor de `num2` a `num1` y guarda el resultado en la variable `difference_result`.\n",
        "*   `print(\"Difference:\", difference_result)`: Imprime la cadena \"Difference:\" seguida del valor de `difference_result`.\n",
        "*   `# Multiplication`: Comentario indicando la operación de multiplicación.\n",
        "*   `product_result = num1 * num2`: Multiplica los valores de `num1` y `num2` y guarda el resultado en la variable `product_result`.\n",
        "*   `print(\"Product:\", product_result)`: Imprime la cadena \"Product:\" seguida del valor de `product_result`.\n",
        "*   `# Division (float division)`: Comentario indicando la división de punto flotante.\n",
        "*   `division_result = num1 / num2`: Divide `num1` por `num2` y guarda el resultado (como un número con decimales) en la variable `division_result`.\n",
        "*   `print(\"Division:\", division_result)`: Imprime la cadena \"Division:\" seguida del valor de `division_result`.\n",
        "*   `# Floor Division (integer division)`: Comentario indicando la división entera.\n",
        "*   `floor_division_result = num1 // num2`: Divide `num1` por `num2` y guarda el resultado (la parte entera de la división) en la variable `floor_division_result`.\n",
        "*   `print(\"Floor Division:\", floor_division_result)`: Imprime la cadena \"Floor Division:\" seguida del valor de `floor_division_result`.\n",
        "*   `# Modulo (remainder)`: Comentario indicando la operación de módulo (residuo).\n",
        "*   `modulo_result = num1 % num2`: Calcula el residuo de la división de `num1` entre `num2` y guarda el resultado en la variable `modulo_result`.\n",
        "*   `print(\"Modulo:\", modulo_result)`: Imprime la cadena \"Modulo:\" seguida del valor de `modulo_result`.\n",
        "*   `# Exponentiation`: Comentario indicando la operación de exponenciación.\n",
        "*   `exponentiation_result = num1 ** num2`: Eleva `num1` a la potencia de `num2` y guarda el resultado en la variable `exponentiation_result`.\n",
        "*   `print(\"Exponentiation:\", exponentiation_result)`: Imprime la cadena \"Exponentiation:\" seguida del valor de `exponentiation_result`."
      ]
    }
  ]
}